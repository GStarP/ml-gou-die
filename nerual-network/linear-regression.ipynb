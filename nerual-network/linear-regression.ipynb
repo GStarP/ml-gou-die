{
 "cells": [
  {
   "cell_type": "code",
   "execution_count": 1,
   "metadata": {},
   "outputs": [],
   "source": [
    "'''\n",
    "线性回归\n",
    "'''\n",
    "import torch\n",
    "from matplotlib import pyplot as plt\n",
    "import numpy as np\n",
    "import random"
   ]
  },
  {
   "cell_type": "code",
   "execution_count": 2,
   "metadata": {
    "tags": []
   },
   "outputs": [
    {
     "output_type": "stream",
     "name": "stdout",
     "text": "tensor([[-8.3227e-01, -3.6894e-01],\n        [ 1.0814e+00,  1.2947e+00],\n        [-3.8174e-01,  4.9282e-02],\n        [ 1.2212e+00,  9.6377e-04],\n        [ 1.8065e+00,  1.2140e+00]])\ntensor([3.7914, 1.9502, 3.2721, 6.6492, 3.6993])\n"
    }
   ],
   "source": [
    "'''\n",
    "构造数据集\n",
    "'''\n",
    "\n",
    "# 两个特征\n",
    "FEATURE_NUM = 2\n",
    "# 一百个样本\n",
    "TRAIN_NUM = 100\n",
    "# 设定的真实权重和偏移\n",
    "real_w = [2, -3.4]\n",
    "real_b = 4.2\n",
    "# 生成数据\n",
    "train_x = torch.randn(TRAIN_NUM, FEATURE_NUM, dtype=torch.float32)\n",
    "train_y = real_w[0] * train_x[:, 0] + real_w[1] * train_x[:, 1] + real_b\n",
    "# 制造噪声\n",
    "train_y += torch.tensor(np.random.normal(0, 0.01, size=train_y.size()), dtype=torch.float32)\n",
    "\n",
    "print(train_x[:5])\n",
    "print(train_y[:5])"
   ]
  },
  {
   "cell_type": "code",
   "execution_count": 3,
   "metadata": {},
   "outputs": [
    {
     "output_type": "execute_result",
     "data": {
      "text/plain": "<matplotlib.collections.PathCollection at 0x120b20748>"
     },
     "metadata": {},
     "execution_count": 3
    },
    {
     "output_type": "display_data",
     "data": {
      "text/plain": "<Figure size 432x288 with 1 Axes>",
      "image/svg+xml": "<?xml version=\"1.0\" encoding=\"utf-8\" standalone=\"no\"?>\n<!DOCTYPE svg PUBLIC \"-//W3C//DTD SVG 1.1//EN\"\n  \"http://www.w3.org/Graphics/SVG/1.1/DTD/svg11.dtd\">\n<!-- Created with matplotlib (https://matplotlib.org/) -->\n<svg height=\"248.518125pt\" version=\"1.1\" viewBox=\"0 0 370.942187 248.518125\" width=\"370.942187pt\" xmlns=\"http://www.w3.org/2000/svg\" xmlns:xlink=\"http://www.w3.org/1999/xlink\">\n <defs>\n  <style type=\"text/css\">\n*{stroke-linecap:butt;stroke-linejoin:round;}\n  </style>\n </defs>\n <g id=\"figure_1\">\n  <g id=\"patch_1\">\n   <path d=\"M 0 248.518125 \nL 370.942187 248.518125 \nL 370.942187 0 \nL 0 0 \nz\n\" style=\"fill:none;\"/>\n  </g>\n  <g id=\"axes_1\">\n   <g id=\"patch_2\">\n    <path d=\"M 28.942188 224.64 \nL 363.742188 224.64 \nL 363.742188 7.2 \nL 28.942188 7.2 \nz\n\" style=\"fill:#ffffff;\"/>\n   </g>\n   <g id=\"PathCollection_1\">\n    <defs>\n     <path d=\"M 0 0.5 \nC 0.132602 0.5 0.25979 0.447317 0.353553 0.353553 \nC 0.447317 0.25979 0.5 0.132602 0.5 0 \nC 0.5 -0.132602 0.447317 -0.25979 0.353553 -0.353553 \nC 0.25979 -0.447317 0.132602 -0.5 0 -0.5 \nC -0.132602 -0.5 -0.25979 -0.447317 -0.353553 -0.353553 \nC -0.447317 -0.25979 -0.5 -0.132602 -0.5 0 \nC -0.5 0.132602 -0.447317 0.25979 -0.353553 0.353553 \nC -0.25979 0.447317 -0.132602 0.5 0 0.5 \nz\n\" id=\"m9b7f92d48f\" style=\"stroke:#1f77b4;\"/>\n    </defs>\n    <g clip-path=\"url(#p5abb72d2ff)\">\n     <use style=\"fill:#1f77b4;stroke:#1f77b4;\" x=\"212.147848\" xlink:href=\"#m9b7f92d48f\" y=\"132.811971\"/>\n     <use style=\"fill:#1f77b4;stroke:#1f77b4;\" x=\"298.168044\" xlink:href=\"#m9b7f92d48f\" y=\"149.96127\"/>\n     <use style=\"fill:#1f77b4;stroke:#1f77b4;\" x=\"233.772572\" xlink:href=\"#m9b7f92d48f\" y=\"137.649245\"/>\n     <use style=\"fill:#1f77b4;stroke:#1f77b4;\" x=\"231.27424\" xlink:href=\"#m9b7f92d48f\" y=\"106.193831\"/>\n     <use style=\"fill:#1f77b4;stroke:#1f77b4;\" x=\"293.997798\" xlink:href=\"#m9b7f92d48f\" y=\"133.669963\"/>\n     <use style=\"fill:#1f77b4;stroke:#1f77b4;\" x=\"214.403983\" xlink:href=\"#m9b7f92d48f\" y=\"108.362449\"/>\n     <use style=\"fill:#1f77b4;stroke:#1f77b4;\" x=\"292.633194\" xlink:href=\"#m9b7f92d48f\" y=\"159.916518\"/>\n     <use style=\"fill:#1f77b4;stroke:#1f77b4;\" x=\"271.293608\" xlink:href=\"#m9b7f92d48f\" y=\"122.756739\"/>\n     <use style=\"fill:#1f77b4;stroke:#1f77b4;\" x=\"348.260266\" xlink:href=\"#m9b7f92d48f\" y=\"200.783591\"/>\n     <use style=\"fill:#1f77b4;stroke:#1f77b4;\" x=\"329.235198\" xlink:href=\"#m9b7f92d48f\" y=\"187.274327\"/>\n     <use style=\"fill:#1f77b4;stroke:#1f77b4;\" x=\"247.77954\" xlink:href=\"#m9b7f92d48f\" y=\"200.486459\"/>\n     <use style=\"fill:#1f77b4;stroke:#1f77b4;\" x=\"223.974138\" xlink:href=\"#m9b7f92d48f\" y=\"149.532187\"/>\n     <use style=\"fill:#1f77b4;stroke:#1f77b4;\" x=\"252.429601\" xlink:href=\"#m9b7f92d48f\" y=\"158.388052\"/>\n     <use style=\"fill:#1f77b4;stroke:#1f77b4;\" x=\"279.995333\" xlink:href=\"#m9b7f92d48f\" y=\"136.276056\"/>\n     <use style=\"fill:#1f77b4;stroke:#1f77b4;\" x=\"125.979508\" xlink:href=\"#m9b7f92d48f\" y=\"97.386959\"/>\n     <use style=\"fill:#1f77b4;stroke:#1f77b4;\" x=\"189.775146\" xlink:href=\"#m9b7f92d48f\" y=\"73.530861\"/>\n     <use style=\"fill:#1f77b4;stroke:#1f77b4;\" x=\"174.244035\" xlink:href=\"#m9b7f92d48f\" y=\"76.672989\"/>\n     <use style=\"fill:#1f77b4;stroke:#1f77b4;\" x=\"119.748314\" xlink:href=\"#m9b7f92d48f\" y=\"53.544107\"/>\n     <use style=\"fill:#1f77b4;stroke:#1f77b4;\" x=\"142.550127\" xlink:href=\"#m9b7f92d48f\" y=\"86.414445\"/>\n     <use style=\"fill:#1f77b4;stroke:#1f77b4;\" x=\"249.865612\" xlink:href=\"#m9b7f92d48f\" y=\"150.109788\"/>\n     <use style=\"fill:#1f77b4;stroke:#1f77b4;\" x=\"205.298008\" xlink:href=\"#m9b7f92d48f\" y=\"126.36377\"/>\n     <use style=\"fill:#1f77b4;stroke:#1f77b4;\" x=\"219.35117\" xlink:href=\"#m9b7f92d48f\" y=\"143.46916\"/>\n     <use style=\"fill:#1f77b4;stroke:#1f77b4;\" x=\"251.187885\" xlink:href=\"#m9b7f92d48f\" y=\"152.224676\"/>\n     <use style=\"fill:#1f77b4;stroke:#1f77b4;\" x=\"224.534191\" xlink:href=\"#m9b7f92d48f\" y=\"133.517654\"/>\n     <use style=\"fill:#1f77b4;stroke:#1f77b4;\" x=\"234.716769\" xlink:href=\"#m9b7f92d48f\" y=\"110.216323\"/>\n     <use style=\"fill:#1f77b4;stroke:#1f77b4;\" x=\"209.286306\" xlink:href=\"#m9b7f92d48f\" y=\"106.973607\"/>\n     <use style=\"fill:#1f77b4;stroke:#1f77b4;\" x=\"261.002835\" xlink:href=\"#m9b7f92d48f\" y=\"123.682783\"/>\n     <use style=\"fill:#1f77b4;stroke:#1f77b4;\" x=\"161.291404\" xlink:href=\"#m9b7f92d48f\" y=\"83.018403\"/>\n     <use style=\"fill:#1f77b4;stroke:#1f77b4;\" x=\"251.614581\" xlink:href=\"#m9b7f92d48f\" y=\"130.679941\"/>\n     <use style=\"fill:#1f77b4;stroke:#1f77b4;\" x=\"263.820384\" xlink:href=\"#m9b7f92d48f\" y=\"151.86474\"/>\n     <use style=\"fill:#1f77b4;stroke:#1f77b4;\" x=\"191.117426\" xlink:href=\"#m9b7f92d48f\" y=\"92.19924\"/>\n     <use style=\"fill:#1f77b4;stroke:#1f77b4;\" x=\"251.0447\" xlink:href=\"#m9b7f92d48f\" y=\"143.818367\"/>\n     <use style=\"fill:#1f77b4;stroke:#1f77b4;\" x=\"44.160369\" xlink:href=\"#m9b7f92d48f\" y=\"17.083636\"/>\n     <use style=\"fill:#1f77b4;stroke:#1f77b4;\" x=\"280.058161\" xlink:href=\"#m9b7f92d48f\" y=\"188.375387\"/>\n     <use style=\"fill:#1f77b4;stroke:#1f77b4;\" x=\"241.642661\" xlink:href=\"#m9b7f92d48f\" y=\"147.880357\"/>\n     <use style=\"fill:#1f77b4;stroke:#1f77b4;\" x=\"295.850784\" xlink:href=\"#m9b7f92d48f\" y=\"160.934147\"/>\n     <use style=\"fill:#1f77b4;stroke:#1f77b4;\" x=\"263.065959\" xlink:href=\"#m9b7f92d48f\" y=\"149.216\"/>\n     <use style=\"fill:#1f77b4;stroke:#1f77b4;\" x=\"202.164955\" xlink:href=\"#m9b7f92d48f\" y=\"80.53059\"/>\n     <use style=\"fill:#1f77b4;stroke:#1f77b4;\" x=\"281.050792\" xlink:href=\"#m9b7f92d48f\" y=\"184.182619\"/>\n     <use style=\"fill:#1f77b4;stroke:#1f77b4;\" x=\"182.695278\" xlink:href=\"#m9b7f92d48f\" y=\"88.188481\"/>\n     <use style=\"fill:#1f77b4;stroke:#1f77b4;\" x=\"229.214348\" xlink:href=\"#m9b7f92d48f\" y=\"127.756494\"/>\n     <use style=\"fill:#1f77b4;stroke:#1f77b4;\" x=\"275.486941\" xlink:href=\"#m9b7f92d48f\" y=\"159.702944\"/>\n     <use style=\"fill:#1f77b4;stroke:#1f77b4;\" x=\"217.640885\" xlink:href=\"#m9b7f92d48f\" y=\"172.214592\"/>\n     <use style=\"fill:#1f77b4;stroke:#1f77b4;\" x=\"236.324406\" xlink:href=\"#m9b7f92d48f\" y=\"131.842341\"/>\n     <use style=\"fill:#1f77b4;stroke:#1f77b4;\" x=\"245.832011\" xlink:href=\"#m9b7f92d48f\" y=\"131.884572\"/>\n     <use style=\"fill:#1f77b4;stroke:#1f77b4;\" x=\"224.820536\" xlink:href=\"#m9b7f92d48f\" y=\"115.119683\"/>\n     <use style=\"fill:#1f77b4;stroke:#1f77b4;\" x=\"136.101287\" xlink:href=\"#m9b7f92d48f\" y=\"69.402574\"/>\n     <use style=\"fill:#1f77b4;stroke:#1f77b4;\" x=\"250.44036\" xlink:href=\"#m9b7f92d48f\" y=\"132.005991\"/>\n     <use style=\"fill:#1f77b4;stroke:#1f77b4;\" x=\"177.851187\" xlink:href=\"#m9b7f92d48f\" y=\"90.59045\"/>\n     <use style=\"fill:#1f77b4;stroke:#1f77b4;\" x=\"276.144717\" xlink:href=\"#m9b7f92d48f\" y=\"160.562255\"/>\n     <use style=\"fill:#1f77b4;stroke:#1f77b4;\" x=\"238.881334\" xlink:href=\"#m9b7f92d48f\" y=\"125.550368\"/>\n     <use style=\"fill:#1f77b4;stroke:#1f77b4;\" x=\"200.179486\" xlink:href=\"#m9b7f92d48f\" y=\"103.446796\"/>\n     <use style=\"fill:#1f77b4;stroke:#1f77b4;\" x=\"250.796498\" xlink:href=\"#m9b7f92d48f\" y=\"114.559649\"/>\n     <use style=\"fill:#1f77b4;stroke:#1f77b4;\" x=\"203.48983\" xlink:href=\"#m9b7f92d48f\" y=\"107.025198\"/>\n     <use style=\"fill:#1f77b4;stroke:#1f77b4;\" x=\"179.972375\" xlink:href=\"#m9b7f92d48f\" y=\"118.877548\"/>\n     <use style=\"fill:#1f77b4;stroke:#1f77b4;\" x=\"277.624321\" xlink:href=\"#m9b7f92d48f\" y=\"188.767289\"/>\n     <use style=\"fill:#1f77b4;stroke:#1f77b4;\" x=\"314.381208\" xlink:href=\"#m9b7f92d48f\" y=\"196.285976\"/>\n     <use style=\"fill:#1f77b4;stroke:#1f77b4;\" x=\"266.805949\" xlink:href=\"#m9b7f92d48f\" y=\"183.654832\"/>\n     <use style=\"fill:#1f77b4;stroke:#1f77b4;\" x=\"179.587944\" xlink:href=\"#m9b7f92d48f\" y=\"114.513299\"/>\n     <use style=\"fill:#1f77b4;stroke:#1f77b4;\" x=\"225.991212\" xlink:href=\"#m9b7f92d48f\" y=\"102.829069\"/>\n     <use style=\"fill:#1f77b4;stroke:#1f77b4;\" x=\"167.068131\" xlink:href=\"#m9b7f92d48f\" y=\"57.079121\"/>\n     <use style=\"fill:#1f77b4;stroke:#1f77b4;\" x=\"189.535187\" xlink:href=\"#m9b7f92d48f\" y=\"80.15173\"/>\n     <use style=\"fill:#1f77b4;stroke:#1f77b4;\" x=\"149.324116\" xlink:href=\"#m9b7f92d48f\" y=\"28.405706\"/>\n     <use style=\"fill:#1f77b4;stroke:#1f77b4;\" x=\"226.79834\" xlink:href=\"#m9b7f92d48f\" y=\"119.253077\"/>\n     <use style=\"fill:#1f77b4;stroke:#1f77b4;\" x=\"299.632392\" xlink:href=\"#m9b7f92d48f\" y=\"152.694523\"/>\n     <use style=\"fill:#1f77b4;stroke:#1f77b4;\" x=\"215.185554\" xlink:href=\"#m9b7f92d48f\" y=\"107.031798\"/>\n     <use style=\"fill:#1f77b4;stroke:#1f77b4;\" x=\"212.317774\" xlink:href=\"#m9b7f92d48f\" y=\"129.783947\"/>\n     <use style=\"fill:#1f77b4;stroke:#1f77b4;\" x=\"222.587016\" xlink:href=\"#m9b7f92d48f\" y=\"124.945606\"/>\n     <use style=\"fill:#1f77b4;stroke:#1f77b4;\" x=\"209.219177\" xlink:href=\"#m9b7f92d48f\" y=\"118.283396\"/>\n     <use style=\"fill:#1f77b4;stroke:#1f77b4;\" x=\"189.497776\" xlink:href=\"#m9b7f92d48f\" y=\"71.599937\"/>\n     <use style=\"fill:#1f77b4;stroke:#1f77b4;\" x=\"179.093532\" xlink:href=\"#m9b7f92d48f\" y=\"109.28665\"/>\n     <use style=\"fill:#1f77b4;stroke:#1f77b4;\" x=\"272.897466\" xlink:href=\"#m9b7f92d48f\" y=\"155.68869\"/>\n     <use style=\"fill:#1f77b4;stroke:#1f77b4;\" x=\"208.941308\" xlink:href=\"#m9b7f92d48f\" y=\"141.029352\"/>\n     <use style=\"fill:#1f77b4;stroke:#1f77b4;\" x=\"219.534529\" xlink:href=\"#m9b7f92d48f\" y=\"108.305719\"/>\n     <use style=\"fill:#1f77b4;stroke:#1f77b4;\" x=\"306.414715\" xlink:href=\"#m9b7f92d48f\" y=\"192.93426\"/>\n     <use style=\"fill:#1f77b4;stroke:#1f77b4;\" x=\"202.609569\" xlink:href=\"#m9b7f92d48f\" y=\"110.346887\"/>\n     <use style=\"fill:#1f77b4;stroke:#1f77b4;\" x=\"243.845037\" xlink:href=\"#m9b7f92d48f\" y=\"149.14283\"/>\n     <use style=\"fill:#1f77b4;stroke:#1f77b4;\" x=\"180.767651\" xlink:href=\"#m9b7f92d48f\" y=\"114.169122\"/>\n     <use style=\"fill:#1f77b4;stroke:#1f77b4;\" x=\"233.382481\" xlink:href=\"#m9b7f92d48f\" y=\"141.155685\"/>\n     <use style=\"fill:#1f77b4;stroke:#1f77b4;\" x=\"125.592306\" xlink:href=\"#m9b7f92d48f\" y=\"47.127799\"/>\n     <use style=\"fill:#1f77b4;stroke:#1f77b4;\" x=\"348.524006\" xlink:href=\"#m9b7f92d48f\" y=\"177.939203\"/>\n     <use style=\"fill:#1f77b4;stroke:#1f77b4;\" x=\"234.982394\" xlink:href=\"#m9b7f92d48f\" y=\"124.336815\"/>\n     <use style=\"fill:#1f77b4;stroke:#1f77b4;\" x=\"280.697486\" xlink:href=\"#m9b7f92d48f\" y=\"180.191379\"/>\n     <use style=\"fill:#1f77b4;stroke:#1f77b4;\" x=\"264.823408\" xlink:href=\"#m9b7f92d48f\" y=\"158.453247\"/>\n     <use style=\"fill:#1f77b4;stroke:#1f77b4;\" x=\"240.080942\" xlink:href=\"#m9b7f92d48f\" y=\"154.791662\"/>\n     <use style=\"fill:#1f77b4;stroke:#1f77b4;\" x=\"222.762091\" xlink:href=\"#m9b7f92d48f\" y=\"101.860551\"/>\n     <use style=\"fill:#1f77b4;stroke:#1f77b4;\" x=\"268.860616\" xlink:href=\"#m9b7f92d48f\" y=\"154.672815\"/>\n     <use style=\"fill:#1f77b4;stroke:#1f77b4;\" x=\"242.568437\" xlink:href=\"#m9b7f92d48f\" y=\"148.400706\"/>\n     <use style=\"fill:#1f77b4;stroke:#1f77b4;\" x=\"217.183024\" xlink:href=\"#m9b7f92d48f\" y=\"134.973153\"/>\n     <use style=\"fill:#1f77b4;stroke:#1f77b4;\" x=\"183.399977\" xlink:href=\"#m9b7f92d48f\" y=\"102.992685\"/>\n     <use style=\"fill:#1f77b4;stroke:#1f77b4;\" x=\"259.899978\" xlink:href=\"#m9b7f92d48f\" y=\"144.834824\"/>\n     <use style=\"fill:#1f77b4;stroke:#1f77b4;\" x=\"245.915145\" xlink:href=\"#m9b7f92d48f\" y=\"135.028806\"/>\n     <use style=\"fill:#1f77b4;stroke:#1f77b4;\" x=\"298.369633\" xlink:href=\"#m9b7f92d48f\" y=\"214.756364\"/>\n     <use style=\"fill:#1f77b4;stroke:#1f77b4;\" x=\"271.653183\" xlink:href=\"#m9b7f92d48f\" y=\"136.058486\"/>\n     <use style=\"fill:#1f77b4;stroke:#1f77b4;\" x=\"223.82556\" xlink:href=\"#m9b7f92d48f\" y=\"149.867567\"/>\n     <use style=\"fill:#1f77b4;stroke:#1f77b4;\" x=\"174.654363\" xlink:href=\"#m9b7f92d48f\" y=\"106.692355\"/>\n     <use style=\"fill:#1f77b4;stroke:#1f77b4;\" x=\"261.934536\" xlink:href=\"#m9b7f92d48f\" y=\"123.581613\"/>\n     <use style=\"fill:#1f77b4;stroke:#1f77b4;\" x=\"237.200051\" xlink:href=\"#m9b7f92d48f\" y=\"121.951954\"/>\n     <use style=\"fill:#1f77b4;stroke:#1f77b4;\" x=\"232.996688\" xlink:href=\"#m9b7f92d48f\" y=\"133.368259\"/>\n     <use style=\"fill:#1f77b4;stroke:#1f77b4;\" x=\"265.106227\" xlink:href=\"#m9b7f92d48f\" y=\"132.838336\"/>\n    </g>\n   </g>\n   <g id=\"matplotlib.axis_1\">\n    <g id=\"xtick_1\">\n     <g id=\"line2d_1\">\n      <defs>\n       <path d=\"M 0 0 \nL 0 3.5 \n\" id=\"m552c0abe62\" style=\"stroke:#000000;stroke-width:0.8;\"/>\n      </defs>\n      <g>\n       <use style=\"stroke:#000000;stroke-width:0.8;\" x=\"76.105794\" xlink:href=\"#m552c0abe62\" y=\"224.64\"/>\n      </g>\n     </g>\n     <g id=\"text_1\">\n      <!-- −3 -->\n      <defs>\n       <path d=\"M 10.59375 35.5 \nL 73.1875 35.5 \nL 73.1875 27.203125 \nL 10.59375 27.203125 \nz\n\" id=\"DejaVuSans-8722\"/>\n       <path d=\"M 40.578125 39.3125 \nQ 47.65625 37.796875 51.625 33 \nQ 55.609375 28.21875 55.609375 21.1875 \nQ 55.609375 10.40625 48.1875 4.484375 \nQ 40.765625 -1.421875 27.09375 -1.421875 \nQ 22.515625 -1.421875 17.65625 -0.515625 \nQ 12.796875 0.390625 7.625 2.203125 \nL 7.625 11.71875 \nQ 11.71875 9.328125 16.59375 8.109375 \nQ 21.484375 6.890625 26.8125 6.890625 \nQ 36.078125 6.890625 40.9375 10.546875 \nQ 45.796875 14.203125 45.796875 21.1875 \nQ 45.796875 27.640625 41.28125 31.265625 \nQ 36.765625 34.90625 28.71875 34.90625 \nL 20.21875 34.90625 \nL 20.21875 43.015625 \nL 29.109375 43.015625 \nQ 36.375 43.015625 40.234375 45.921875 \nQ 44.09375 48.828125 44.09375 54.296875 \nQ 44.09375 59.90625 40.109375 62.90625 \nQ 36.140625 65.921875 28.71875 65.921875 \nQ 24.65625 65.921875 20.015625 65.03125 \nQ 15.375 64.15625 9.8125 62.3125 \nL 9.8125 71.09375 \nQ 15.4375 72.65625 20.34375 73.4375 \nQ 25.25 74.21875 29.59375 74.21875 \nQ 40.828125 74.21875 47.359375 69.109375 \nQ 53.90625 64.015625 53.90625 55.328125 \nQ 53.90625 49.265625 50.4375 45.09375 \nQ 46.96875 40.921875 40.578125 39.3125 \nz\n\" id=\"DejaVuSans-51\"/>\n      </defs>\n      <g transform=\"translate(68.7347 239.238437)scale(0.1 -0.1)\">\n       <use xlink:href=\"#DejaVuSans-8722\"/>\n       <use x=\"83.789062\" xlink:href=\"#DejaVuSans-51\"/>\n      </g>\n     </g>\n    </g>\n    <g id=\"xtick_2\">\n     <g id=\"line2d_2\">\n      <g>\n       <use style=\"stroke:#000000;stroke-width:0.8;\" x=\"127.811998\" xlink:href=\"#m552c0abe62\" y=\"224.64\"/>\n      </g>\n     </g>\n     <g id=\"text_2\">\n      <!-- −2 -->\n      <defs>\n       <path d=\"M 19.1875 8.296875 \nL 53.609375 8.296875 \nL 53.609375 0 \nL 7.328125 0 \nL 7.328125 8.296875 \nQ 12.9375 14.109375 22.625 23.890625 \nQ 32.328125 33.6875 34.8125 36.53125 \nQ 39.546875 41.84375 41.421875 45.53125 \nQ 43.3125 49.21875 43.3125 52.78125 \nQ 43.3125 58.59375 39.234375 62.25 \nQ 35.15625 65.921875 28.609375 65.921875 \nQ 23.96875 65.921875 18.8125 64.3125 \nQ 13.671875 62.703125 7.8125 59.421875 \nL 7.8125 69.390625 \nQ 13.765625 71.78125 18.9375 73 \nQ 24.125 74.21875 28.421875 74.21875 \nQ 39.75 74.21875 46.484375 68.546875 \nQ 53.21875 62.890625 53.21875 53.421875 \nQ 53.21875 48.921875 51.53125 44.890625 \nQ 49.859375 40.875 45.40625 35.40625 \nQ 44.1875 33.984375 37.640625 27.21875 \nQ 31.109375 20.453125 19.1875 8.296875 \nz\n\" id=\"DejaVuSans-50\"/>\n      </defs>\n      <g transform=\"translate(120.440905 239.238437)scale(0.1 -0.1)\">\n       <use xlink:href=\"#DejaVuSans-8722\"/>\n       <use x=\"83.789062\" xlink:href=\"#DejaVuSans-50\"/>\n      </g>\n     </g>\n    </g>\n    <g id=\"xtick_3\">\n     <g id=\"line2d_3\">\n      <g>\n       <use style=\"stroke:#000000;stroke-width:0.8;\" x=\"179.518203\" xlink:href=\"#m552c0abe62\" y=\"224.64\"/>\n      </g>\n     </g>\n     <g id=\"text_3\">\n      <!-- −1 -->\n      <defs>\n       <path d=\"M 12.40625 8.296875 \nL 28.515625 8.296875 \nL 28.515625 63.921875 \nL 10.984375 60.40625 \nL 10.984375 69.390625 \nL 28.421875 72.90625 \nL 38.28125 72.90625 \nL 38.28125 8.296875 \nL 54.390625 8.296875 \nL 54.390625 0 \nL 12.40625 0 \nz\n\" id=\"DejaVuSans-49\"/>\n      </defs>\n      <g transform=\"translate(172.147109 239.238437)scale(0.1 -0.1)\">\n       <use xlink:href=\"#DejaVuSans-8722\"/>\n       <use x=\"83.789062\" xlink:href=\"#DejaVuSans-49\"/>\n      </g>\n     </g>\n    </g>\n    <g id=\"xtick_4\">\n     <g id=\"line2d_4\">\n      <g>\n       <use style=\"stroke:#000000;stroke-width:0.8;\" x=\"231.224408\" xlink:href=\"#m552c0abe62\" y=\"224.64\"/>\n      </g>\n     </g>\n     <g id=\"text_4\">\n      <!-- 0 -->\n      <defs>\n       <path d=\"M 31.78125 66.40625 \nQ 24.171875 66.40625 20.328125 58.90625 \nQ 16.5 51.421875 16.5 36.375 \nQ 16.5 21.390625 20.328125 13.890625 \nQ 24.171875 6.390625 31.78125 6.390625 \nQ 39.453125 6.390625 43.28125 13.890625 \nQ 47.125 21.390625 47.125 36.375 \nQ 47.125 51.421875 43.28125 58.90625 \nQ 39.453125 66.40625 31.78125 66.40625 \nz\nM 31.78125 74.21875 \nQ 44.046875 74.21875 50.515625 64.515625 \nQ 56.984375 54.828125 56.984375 36.375 \nQ 56.984375 17.96875 50.515625 8.265625 \nQ 44.046875 -1.421875 31.78125 -1.421875 \nQ 19.53125 -1.421875 13.0625 8.265625 \nQ 6.59375 17.96875 6.59375 36.375 \nQ 6.59375 54.828125 13.0625 64.515625 \nQ 19.53125 74.21875 31.78125 74.21875 \nz\n\" id=\"DejaVuSans-48\"/>\n      </defs>\n      <g transform=\"translate(228.043158 239.238437)scale(0.1 -0.1)\">\n       <use xlink:href=\"#DejaVuSans-48\"/>\n      </g>\n     </g>\n    </g>\n    <g id=\"xtick_5\">\n     <g id=\"line2d_5\">\n      <g>\n       <use style=\"stroke:#000000;stroke-width:0.8;\" x=\"282.930612\" xlink:href=\"#m552c0abe62\" y=\"224.64\"/>\n      </g>\n     </g>\n     <g id=\"text_5\">\n      <!-- 1 -->\n      <g transform=\"translate(279.749362 239.238437)scale(0.1 -0.1)\">\n       <use xlink:href=\"#DejaVuSans-49\"/>\n      </g>\n     </g>\n    </g>\n    <g id=\"xtick_6\">\n     <g id=\"line2d_6\">\n      <g>\n       <use style=\"stroke:#000000;stroke-width:0.8;\" x=\"334.636817\" xlink:href=\"#m552c0abe62\" y=\"224.64\"/>\n      </g>\n     </g>\n     <g id=\"text_6\">\n      <!-- 2 -->\n      <g transform=\"translate(331.455567 239.238437)scale(0.1 -0.1)\">\n       <use xlink:href=\"#DejaVuSans-50\"/>\n      </g>\n     </g>\n    </g>\n   </g>\n   <g id=\"matplotlib.axis_2\">\n    <g id=\"ytick_1\">\n     <g id=\"line2d_7\">\n      <defs>\n       <path d=\"M 0 0 \nL -3.5 0 \n\" id=\"mb4e85268a6\" style=\"stroke:#000000;stroke-width:0.8;\"/>\n      </defs>\n      <g>\n       <use style=\"stroke:#000000;stroke-width:0.8;\" x=\"28.942188\" xlink:href=\"#mb4e85268a6\" y=\"214.697684\"/>\n      </g>\n     </g>\n     <g id=\"text_7\">\n      <!-- −5 -->\n      <defs>\n       <path d=\"M 10.796875 72.90625 \nL 49.515625 72.90625 \nL 49.515625 64.59375 \nL 19.828125 64.59375 \nL 19.828125 46.734375 \nQ 21.96875 47.46875 24.109375 47.828125 \nQ 26.265625 48.1875 28.421875 48.1875 \nQ 40.625 48.1875 47.75 41.5 \nQ 54.890625 34.8125 54.890625 23.390625 \nQ 54.890625 11.625 47.5625 5.09375 \nQ 40.234375 -1.421875 26.90625 -1.421875 \nQ 22.3125 -1.421875 17.546875 -0.640625 \nQ 12.796875 0.140625 7.71875 1.703125 \nL 7.71875 11.625 \nQ 12.109375 9.234375 16.796875 8.0625 \nQ 21.484375 6.890625 26.703125 6.890625 \nQ 35.15625 6.890625 40.078125 11.328125 \nQ 45.015625 15.765625 45.015625 23.390625 \nQ 45.015625 31 40.078125 35.4375 \nQ 35.15625 39.890625 26.703125 39.890625 \nQ 22.75 39.890625 18.8125 39.015625 \nQ 14.890625 38.140625 10.796875 36.28125 \nz\n\" id=\"DejaVuSans-53\"/>\n      </defs>\n      <g transform=\"translate(7.2 218.496903)scale(0.1 -0.1)\">\n       <use xlink:href=\"#DejaVuSans-8722\"/>\n       <use x=\"83.789062\" xlink:href=\"#DejaVuSans-53\"/>\n      </g>\n     </g>\n    </g>\n    <g id=\"ytick_2\">\n     <g id=\"line2d_8\">\n      <g>\n       <use style=\"stroke:#000000;stroke-width:0.8;\" x=\"28.942188\" xlink:href=\"#mb4e85268a6\" y=\"168.126268\"/>\n      </g>\n     </g>\n     <g id=\"text_8\">\n      <!-- 0 -->\n      <g transform=\"translate(15.579688 171.925487)scale(0.1 -0.1)\">\n       <use xlink:href=\"#DejaVuSans-48\"/>\n      </g>\n     </g>\n    </g>\n    <g id=\"ytick_3\">\n     <g id=\"line2d_9\">\n      <g>\n       <use style=\"stroke:#000000;stroke-width:0.8;\" x=\"28.942188\" xlink:href=\"#mb4e85268a6\" y=\"121.554853\"/>\n      </g>\n     </g>\n     <g id=\"text_9\">\n      <!-- 5 -->\n      <g transform=\"translate(15.579688 125.354072)scale(0.1 -0.1)\">\n       <use xlink:href=\"#DejaVuSans-53\"/>\n      </g>\n     </g>\n    </g>\n    <g id=\"ytick_4\">\n     <g id=\"line2d_10\">\n      <g>\n       <use style=\"stroke:#000000;stroke-width:0.8;\" x=\"28.942188\" xlink:href=\"#mb4e85268a6\" y=\"74.983437\"/>\n      </g>\n     </g>\n     <g id=\"text_10\">\n      <!-- 10 -->\n      <g transform=\"translate(9.217188 78.782656)scale(0.1 -0.1)\">\n       <use xlink:href=\"#DejaVuSans-49\"/>\n       <use x=\"63.623047\" xlink:href=\"#DejaVuSans-48\"/>\n      </g>\n     </g>\n    </g>\n    <g id=\"ytick_5\">\n     <g id=\"line2d_11\">\n      <g>\n       <use style=\"stroke:#000000;stroke-width:0.8;\" x=\"28.942188\" xlink:href=\"#mb4e85268a6\" y=\"28.412022\"/>\n      </g>\n     </g>\n     <g id=\"text_11\">\n      <!-- 15 -->\n      <g transform=\"translate(9.217188 32.21124)scale(0.1 -0.1)\">\n       <use xlink:href=\"#DejaVuSans-49\"/>\n       <use x=\"63.623047\" xlink:href=\"#DejaVuSans-53\"/>\n      </g>\n     </g>\n    </g>\n   </g>\n   <g id=\"patch_3\">\n    <path d=\"M 28.942188 224.64 \nL 28.942188 7.2 \n\" style=\"fill:none;stroke:#000000;stroke-linecap:square;stroke-linejoin:miter;stroke-width:0.8;\"/>\n   </g>\n   <g id=\"patch_4\">\n    <path d=\"M 363.742188 224.64 \nL 363.742188 7.2 \n\" style=\"fill:none;stroke:#000000;stroke-linecap:square;stroke-linejoin:miter;stroke-width:0.8;\"/>\n   </g>\n   <g id=\"patch_5\">\n    <path d=\"M 28.942187 224.64 \nL 363.742188 224.64 \n\" style=\"fill:none;stroke:#000000;stroke-linecap:square;stroke-linejoin:miter;stroke-width:0.8;\"/>\n   </g>\n   <g id=\"patch_6\">\n    <path d=\"M 28.942187 7.2 \nL 363.742188 7.2 \n\" style=\"fill:none;stroke:#000000;stroke-linecap:square;stroke-linejoin:miter;stroke-width:0.8;\"/>\n   </g>\n  </g>\n </g>\n <defs>\n  <clipPath id=\"p5abb72d2ff\">\n   <rect height=\"217.44\" width=\"334.8\" x=\"28.942188\" y=\"7.2\"/>\n  </clipPath>\n </defs>\n</svg>\n",
      "image/png": "[encoded data removed]"
     },
     "metadata": {
      "needs_background": "light"
     }
    }
   ],
   "source": [
    "plt.scatter(train_x[:, 1].numpy(), train_y.numpy(), 1)"
   ]
  },
  {
   "cell_type": "code",
   "execution_count": 4,
   "metadata": {
    "tags": []
   },
   "outputs": [
    {
     "output_type": "stream",
     "name": "stdout",
     "text": "tensor([[ 0.6463, -0.7757],\n        [-2.3879,  1.2986],\n        [ 1.2309,  2.2686],\n        [-1.7683, -2.0354],\n        [-1.1724, -0.2296],\n        [-3.2957,  0.3202],\n        [ 0.0164,  0.0986],\n        [-0.1826,  0.8560],\n        [-0.8917,  0.4101],\n        [ 0.3591,  1.1876]]) \n tensor([ 8.1517, -5.0063, -1.0535,  7.5947,  2.6472, -3.4743,  3.8955,  0.9043,\n         1.0455,  0.8814])\n"
    }
   ],
   "source": [
    "# 小批量读取数据\n",
    "def train_data_batch(batch_size, train_x, train_y):\n",
    "    total_num = len(train_x)\n",
    "    # 下标组成的数组\n",
    "    indices = list(range(total_num))\n",
    "    # 将所有元素随机排序\n",
    "    random.shuffle(indices)\n",
    "    # 按 batch_size 逐批取数据\n",
    "    for i in range(0, total_num, batch_size):\n",
    "        j = torch.LongTensor(indices[i: min(i + batch_size, total_num)])\n",
    "        yield train_x.index_select(0, j), train_y.index_select(0, j)\n",
    "\n",
    "# 按 10 为批读取数据\n",
    "for test_batch_x, test_batch_y in train_data_batch(10, train_x, train_y):\n",
    "    print(test_batch_x, '\\n', test_batch_y)\n",
    "    break"
   ]
  },
  {
   "cell_type": "code",
   "execution_count": 15,
   "metadata": {
    "tags": []
   },
   "outputs": [
    {
     "output_type": "stream",
     "name": "stdout",
     "text": "tensor([[-0.0103],\n        [ 0.0122]], requires_grad=True) \n tensor([0.], requires_grad=True)\n"
    }
   ],
   "source": [
    "# 初始化权重\n",
    "w = torch.tensor(np.random.normal(0, 0.01, (FEATURE_NUM, 1)), dtype=torch.float32, requires_grad=True)\n",
    "b = torch.zeros(1, dtype=torch.float32, requires_grad=True)\n",
    "print(w, '\\n', b)"
   ]
  },
  {
   "cell_type": "code",
   "execution_count": 16,
   "metadata": {},
   "outputs": [],
   "source": [
    "# 定义模型\n",
    "def linear_model(X, w, b):\n",
    "    return torch.mm(X, w) + b"
   ]
  },
  {
   "cell_type": "code",
   "execution_count": 17,
   "metadata": {},
   "outputs": [],
   "source": [
    "# 定义平方损失函数\n",
    "def square_loss(y, real_y):\n",
    "    # y, real_y 可能是一个向量而非标量\n",
    "    return (y - real_y.view(y.size())) ** 2 / 2"
   ]
  },
  {
   "cell_type": "code",
   "execution_count": 18,
   "metadata": {},
   "outputs": [],
   "source": [
    "# 小批量随机梯度下降\n",
    "def sgd(params, learning_rate, batch_size):\n",
    "    for param in params:\n",
    "        # 对 data 进行修改可以更改数据而又不会被记录, 不会影响到后续的梯度计算\n",
    "        param.data -= learning_rate * param.grad / batch_size"
   ]
  },
  {
   "cell_type": "code",
   "execution_count": 21,
   "metadata": {
    "tags": []
   },
   "outputs": [
    {
     "output_type": "stream",
     "name": "stdout",
     "text": "epoch 1, loss 1.401946\nepoch 2, loss 0.754076\nepoch 3, loss 0.406344\nepoch 4, loss 0.219116\nepoch 5, loss 0.118279\n"
    }
   ],
   "source": [
    "# 学习率\n",
    "LEARNING_RATE = 0.03\n",
    "# 迭代次数\n",
    "EPOCH_NUM = 5\n",
    "# 批大小\n",
    "BATCH_SIZE = 10\n",
    "\n",
    "for epoch in range(EPOCH_NUM):\n",
    "    for X, y in train_data_batch(BATCH_SIZE, train_x, train_y):\n",
    "        # 一批中全部数据 loss 的和\n",
    "        loss = square_loss(linear_model(X, w, b), y).sum()\n",
    "        # 对 w 和 b 求梯度\n",
    "        loss.backward()\n",
    "        sgd([w, b], LEARNING_RATE, BATCH_SIZE)\n",
    "        # 计算一次后要记得清零梯度, 否则梯度将会累加\n",
    "        w.grad.data.zero_()\n",
    "        b.grad.data.zero_()\n",
    "    # 一次迭代中各批次 loss 的列表\n",
    "    epoch_loss = square_loss(linear_model(train_x, w, b), train_y)\n",
    "    print('epoch %d, loss %f' % (epoch + 1, epoch_loss.mean().item()))"
   ]
  },
  {
   "cell_type": "code",
   "execution_count": 22,
   "metadata": {
    "tags": []
   },
   "outputs": [
    {
     "output_type": "stream",
     "name": "stdout",
     "text": "[[ 1.9035579]\n [-3.0884807]] [2, -3.4]\n[3.8408413] 4.2\n"
    }
   ],
   "source": [
    "# 查看结果是否与真实值接近\n",
    "print(w.data.numpy(), real_w)\n",
    "print(b.data.numpy(), real_b)"
   ]
  },
  {
   "cell_type": "code",
   "execution_count": null,
   "metadata": {},
   "outputs": [],
   "source": []
  }
 ],
 "metadata": {
  "language_info": {
   "codemirror_mode": {
    "name": "ipython",
    "version": 3
   },
   "file_extension": ".py",
   "mimetype": "text/x-python",
   "name": "python",
   "nbconvert_exporter": "python",
   "pygments_lexer": "ipython3",
   "version": "3.6.10-final"
  },
  "orig_nbformat": 2,
  "kernelspec": {
   "name": "python361064bitpy36conda95eb8f69f9de4dc4bfb299e3437cf55f",
   "display_name": "Python 3.6.10 64-bit ('py36': conda)"
  }
 },
 "nbformat": 4,
 "nbformat_minor": 2
}
{
 "cells": [
  {
   "cell_type": "code",
   "execution_count": 1,
   "metadata": {},
   "outputs": [],
   "source": [
    "import numpy as np"
   ]
  },
  {
   "cell_type": "code",
   "execution_count": 7,
   "metadata": {},
   "outputs": [
    {
     "output_type": "stream",
     "name": "stdout",
     "text": "float64\n"
    }
   ],
   "source": [
    "'''\n",
    "[Type]\n",
    "int8/16/32/64   int -> int32/64\n",
    "uint8/16/32/64  unsigned int\n",
    "float16/32/64   float -> float64\n",
    "complex64/128   complex -> complex128\n",
    "'''\n",
    "a = np.array([1.1, 2.2], dtype='float')\n",
    "print(a[0].dtype)"
   ]
  },
  {
   "cell_type": "code",
   "execution_count": 6,
   "metadata": {},
   "outputs": [
    {
     "output_type": "stream",
     "name": "stdout",
     "text": "[(220, 18.) (433, 20.)]\n"
    }
   ],
   "source": [
    "# define struct dtype\n",
    "student = np.dtype([('name', 'i4'), ('age', 'f4')])\n",
    "s = np.array([(220, 18), (433, 20)], dtype=student)\n",
    "print(s)"
   ]
  },
  {
   "cell_type": "code",
   "execution_count": 20,
   "metadata": {},
   "outputs": [
    {
     "output_type": "stream",
     "name": "stdout",
     "text": "=== 1d ===\n[1 2 3] \n\n=== 2d ===\n[[1 2 3]\n [2 3 1]\n [3 1 2]]\n"
    }
   ],
   "source": [
    "'''\n",
    "create ndarray\n",
    "'''\n",
    "\n",
    "# from list\n",
    "arr1 = np.array([1, 2, 3])\n",
    "arr2 = np.array([\n",
    "    [1, 2, 3],\n",
    "    [2, 3, 1],\n",
    "    [3, 1, 2]\n",
    "])\n",
    "print(\"=== 1d ===\")\n",
    "print(arr1, \"\\n\")\n",
    "print(\"=== 2d ===\")\n",
    "print(arr2)"
   ]
  },
  {
   "cell_type": "code",
   "execution_count": 13,
   "metadata": {},
   "outputs": [
    {
     "output_type": "stream",
     "name": "stdout",
     "text": "[[0. 0. 0.]\n [0. 0. 0.]]\n"
    }
   ],
   "source": [
    "# zeros(ones)\n",
    "arr3 = np.zeros((2, 3))\n",
    "print(arr4)"
   ]
  },
  {
   "cell_type": "code",
   "execution_count": 14,
   "metadata": {},
   "outputs": [
    {
     "output_type": "stream",
     "name": "stdout",
     "text": "[0 1 2 3 4]\n"
    }
   ],
   "source": [
    "# 0~n\n",
    "arr4 = np.arange(5)\n",
    "print(arr5)"
   ]
  },
  {
   "cell_type": "code",
   "execution_count": 15,
   "metadata": {},
   "outputs": [
    {
     "output_type": "stream",
     "name": "stdout",
     "text": "[1. 3. 5. 7. 9.]\n"
    }
   ],
   "source": [
    "# 0-n 均匀分布\n",
    "arr5 = np.linspace(1, 9, num=5)\n",
    "print(arr6)"
   ]
  },
  {
   "cell_type": "code",
   "execution_count": 16,
   "metadata": {},
   "outputs": [
    {
     "output_type": "stream",
     "name": "stdout",
     "text": "[[1. 0. 0.]\n [0. 1. 0.]\n [0. 0. 1.]]\n"
    }
   ],
   "source": [
    "# 单元矩阵\n",
    "arr6 = np.eye(3)\n",
    "print(arr7)"
   ]
  },
  {
   "cell_type": "code",
   "execution_count": 28,
   "metadata": {},
   "outputs": [
    {
     "output_type": "stream",
     "name": "stdout",
     "text": "[[1 2 3]\n [2 3 1]]\nlength:\t 6\nB/item:\t 4\nshape:\t (2, 3)\n"
    }
   ],
   "source": [
    "'''\n",
    "ndarray info\n",
    "'''\n",
    "arr = np.array([[1, 2, 3], [2, 3, 1]])\n",
    "print(arr)\n",
    "print(\"length:\\t\", arr.size)\n",
    "print(\"B/item:\\t\", arr.itemsize)\n",
    "print(\"shape:\\t\", arr.shape)"
   ]
  },
  {
   "cell_type": "code",
   "execution_count": 33,
   "metadata": {},
   "outputs": [
    {
     "output_type": "stream",
     "name": "stdout",
     "text": "=== col ===\n[[1]\n [2]\n [3]\n [4]] \n\n=== 2d ===\n[[1 2]\n [3 4]]\n"
    }
   ],
   "source": [
    "'''\n",
    "reshape\n",
    "'''\n",
    "arr = np.array([1, 2, 3, 4])\n",
    "arr_col = arr.reshape(-1, 1)\n",
    "print(\"=== col ===\")\n",
    "print(arr_col, \"\\n\")\n",
    "arr_2d = arr.reshape(2, 2)\n",
    "print(\"=== 2d ===\")\n",
    "print(arr_2d)"
   ]
  },
  {
   "cell_type": "code",
   "execution_count": 7,
   "metadata": {},
   "outputs": [
    {
     "output_type": "stream",
     "name": "stdout",
     "text": "=== matrix ===\n[[1 2 3]\n [4 5 6]\n [1 2 3]]\n=== col1 ===\n[[2]\n [5]\n [2]]\n"
    }
   ],
   "source": [
    "# numpy matrix\n",
    "mat1 = np.matrix([\n",
    "    [1, 2, 3],\n",
    "    [4, 5, 6],\n",
    "    [1, 2, 3]\n",
    "])\n",
    "print(\"=== matrix ===\")\n",
    "print(mat1)\n",
    "\n",
    "# get col\n",
    "print(\"=== col1 ===\")\n",
    "print(mat1[:, 1])"
   ]
  },
  {
   "cell_type": "code",
   "execution_count": 11,
   "metadata": {},
   "outputs": [
    {
     "output_type": "stream",
     "name": "stdout",
     "text": "=== matrix.T ===\n[[1 1 3]\n [2 1 2]\n [3 1 1]]\n=== matrix^-1 ===\n[[-2.25179981e+15  9.00719925e+15 -2.25179981e+15]\n [ 4.50359963e+15 -1.80143985e+16  4.50359963e+15]\n [-2.25179981e+15  9.00719925e+15 -2.25179981e+15]]\n"
    }
   ],
   "source": [
    "mat2 = np.matrix([\n",
    "    [1, 2, 3],\n",
    "    [1, 1, 1],\n",
    "    [3, 2, 1]\n",
    "])\n",
    "\n",
    "# T\n",
    "print(\"=== matrix.T ===\")\n",
    "print(mat2.T)\n",
    "\n",
    "# -1\n",
    "print(\"=== matrix^-1 ===\")\n",
    "print(np.linalg.inv(mat2))"
   ]
  },
  {
   "cell_type": "code",
   "execution_count": 12,
   "metadata": {},
   "outputs": [
    {
     "output_type": "stream",
     "name": "stdout",
     "text": "[[8 9 7]]\n"
    }
   ],
   "source": [
    "# 点乘\n",
    "mat3 = np.matrix([\n",
    "    [1, 2, 3],\n",
    "    [2, 3, 1],\n",
    "    [3, 1, 2]\n",
    "])\n",
    "vec1 = np.array([1, 2, 1])\n",
    "vec1_mat2_dot = np.dot(vec1, mat3)\n",
    "print(vec1_mat2_dot)"
   ]
  },
  {
   "cell_type": "code",
   "execution_count": 31,
   "metadata": {},
   "outputs": [
    {
     "output_type": "stream",
     "name": "stdout",
     "text": "all max: 9, all min: 1\nmax per col: [[7 8 9]]\nmax per row:\n [[3]\n [6]\n [9]]\n"
    }
   ],
   "source": [
    "# 最大/最小\n",
    "mat4 = np.matrix([\n",
    "    [1, 2, 3],\n",
    "    [4, 5, 6],\n",
    "    [7, 8, 9]\n",
    "])\n",
    "print(\"all max: %d, all min: %d\" % (mat4.max(), mat4.min()))\n",
    "print(\"col max:\", mat4.max(axis=0))\n",
    "print(\"row max:\\n\", mat4.max(axis=1))"
   ]
  },
  {
   "cell_type": "code",
   "execution_count": 35,
   "metadata": {},
   "outputs": [
    {
     "output_type": "stream",
     "name": "stdout",
     "text": "all sum: 45\ncol sum: [[12 15 18]]\nrow sum:\n [[ 6]\n [15]\n [24]]\n"
    }
   ],
   "source": [
    "mat5 = np.matrix([\n",
    "    [1, 2, 3],\n",
    "    [4, 5, 6],\n",
    "    [7, 8, 9]\n",
    "])\n",
    "print(\"all sum: %d\" % mat5.sum())\n",
    "print(\"col sum:\", mat5.sum(axis=0))\n",
    "print(\"row sum:\\n\", mat5.sum(axis=1))"
   ]
  }
 ],
 "metadata": {
  "language_info": {
   "name": "python",
   "codemirror_mode": {
    "name": "ipython",
    "version": 2
   },
   "version": "3.7.0-final"
  },
  "orig_nbformat": 2,
  "file_extension": ".py",
  "mimetype": "text/x-python",
  "name": "python",
  "npconvert_exporter": "python",
  "pygments_lexer": "ipython2",
  "version": 2,
  "kernelspec": {
   "name": "python3",
   "display_name": "Python 3"
  }
 },
 "nbformat": 4,
 "nbformat_minor": 2
}
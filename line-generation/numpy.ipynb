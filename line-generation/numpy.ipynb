{
 "nbformat": 4,
 "nbformat_minor": 2,
 "metadata": {
  "language_info": {
   "name": "python",
   "codemirror_mode": {
    "name": "ipython",
    "version": 2
   },
   "version": "3.7.0-final"
  },
  "orig_nbformat": 2,
  "file_extension": ".py",
  "mimetype": "text/x-python",
  "name": "python",
  "npconvert_exporter": "python",
  "pygments_lexer": "ipython2",
  "version": 2,
  "kernelspec": {
   "name": "python3",
   "display_name": "Python 3"
  }
 },
 "cells": [
  {
   "cell_type": "code",
   "execution_count": 2,
   "metadata": {},
   "outputs": [],
   "source": [
    "import numpy as np"
   ]
  },
  {
   "cell_type": "code",
   "execution_count": 3,
   "metadata": {},
   "outputs": [
    {
     "output_type": "stream",
     "name": "stdout",
     "text": "[1 2 3]\n[[1 2 3]\n [2 3 1]\n [3 1 2]]\n"
    }
   ],
   "source": [
    "# numpy array\n",
    "arr1 = np.array([1, 2, 3])\n",
    "arr2 = np.array([\n",
    "    [1, 2, 3],\n",
    "    [2, 3, 1],\n",
    "    [3, 1, 2]\n",
    "])\n",
    "print(arr1)\n",
    "print(arr2)"
   ]
  },
  {
   "cell_type": "code",
   "execution_count": 6,
   "metadata": {},
   "outputs": [
    {
     "output_type": "stream",
     "name": "stdout",
     "text": "[[1]\n [2]\n [3]]\n"
    }
   ],
   "source": [
    "# reshape\n",
    "arr3 = np.array([1, 2, 3])\n",
    "arr3_col = arr3.reshape(-1, 1)\n",
    "print(arr3_col)"
   ]
  },
  {
   "cell_type": "code",
   "execution_count": 7,
   "metadata": {},
   "outputs": [
    {
     "output_type": "stream",
     "name": "stdout",
     "text": "[[1 2 3]\n [2 3 1]\n [3 1 2]]\n"
    }
   ],
   "source": [
    "# numpy matrix\n",
    "mat1 = np.matrix([\n",
    "    [1, 2, 3],\n",
    "    [2, 3, 1],\n",
    "    [3, 1, 2]\n",
    "])\n",
    "print(mat1)"
   ]
  },
  {
   "cell_type": "code",
   "execution_count": 10,
   "metadata": {},
   "outputs": [
    {
     "output_type": "stream",
     "name": "stdout",
     "text": "[[8 9 7]]\n"
    }
   ],
   "source": [
    "# 点乘\n",
    "mat2 = np.matrix([\n",
    "    [1, 2, 3],\n",
    "    [2, 3, 1],\n",
    "    [3, 1, 2]\n",
    "])\n",
    "vec1 = np.array([1, 2, 1])\n",
    "vec1_mat2_dot = np.dot(vec1, mat2)\n",
    "print(vec1_mat2_dot)"
   ]
  }
 ]
}
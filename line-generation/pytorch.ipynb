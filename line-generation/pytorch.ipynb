{
 "cells": [
  {
   "cell_type": "code",
   "execution_count": 3,
   "metadata": {},
   "outputs": [],
   "source": [
    "import torch"
   ]
  },
  {
   "cell_type": "code",
   "execution_count": null,
   "metadata": {},
   "outputs": [],
   "source": [
    "'''\n",
    "tensor (张量) 是 pytorch 的存储和变换数据的主要工具\n",
    "它类似 numpy 的多维数组, 但它有 GPU 计算, 自动求梯度等多种适合深度学习的功能\n",
    "'''"
   ]
  },
  {
   "cell_type": "code",
   "execution_count": 4,
   "metadata": {},
   "outputs": [
    {
     "output_type": "execute_result",
     "data": {
      "text/plain": "tensor([[0.0488, 0.9423],\n        [0.2537, 0.9269]])"
     },
     "metadata": {},
     "execution_count": 4
    }
   ],
   "source": [
    "torch.rand(2, 2)"
   ]
  },
  {
   "cell_type": "code",
   "execution_count": 6,
   "metadata": {},
   "outputs": [
    {
     "output_type": "execute_result",
     "data": {
      "text/plain": "tensor([1, 2])"
     },
     "metadata": {},
     "execution_count": 6
    }
   ],
   "source": [
    "# 通过数组创建张量\n",
    "torch.tensor([1, 2])"
   ]
  },
  {
   "cell_type": "code",
   "execution_count": 5,
   "metadata": {},
   "outputs": [
    {
     "output_type": "execute_result",
     "data": {
      "text/plain": "torch.Size([2, 2])"
     },
     "metadata": {},
     "execution_count": 5
    }
   ],
   "source": [
    "x = torch.rand(2, 2)\n",
    "x.shape"
   ]
  },
  {
   "cell_type": "code",
   "execution_count": 8,
   "metadata": {
    "tags": []
   },
   "outputs": [
    {
     "output_type": "stream",
     "name": "stdout",
     "text": "tensor([3, 3])\n"
    }
   ],
   "source": [
    "x = torch.tensor([1, 2])\n",
    "y = torch.tensor([2, 1])\n",
    "print(x + y)"
   ]
  },
  {
   "cell_type": "code",
   "execution_count": 14,
   "metadata": {
    "tags": []
   },
   "outputs": [
    {
     "output_type": "stream",
     "name": "stdout",
     "text": "tensor([4, 5, 6])\n"
    }
   ],
   "source": [
    "x = torch.tensor([\n",
    "    [1, 2, 3],\n",
    "    [4, 5, 6]\n",
    "])\n",
    "# 索引, 这里 y 与 x 指向同一片内存\n",
    "y = x[1, :]\n",
    "print(y)"
   ]
  },
  {
   "cell_type": "code",
   "execution_count": 20,
   "metadata": {
    "tags": []
   },
   "outputs": [
    {
     "output_type": "stream",
     "name": "stdout",
     "text": "y tensor([[1, 2, 3, 4, 5, 6]])\nx tensor([[2, 3, 4],\n        [5, 6, 7]])\nz tensor([[2, 3, 4, 5, 6, 7]])\nz tensor([[3, 4, 5, 6, 7, 8]])\nx tensor([[2, 3, 4],\n        [5, 6, 7]])\n"
    }
   ],
   "source": [
    "x = torch.tensor([\n",
    "    [1, 2, 3],\n",
    "    [4, 5, 6]\n",
    "])\n",
    "# -1 表示根据其它纬度推断\n",
    "y = x.view(-1, 6)\n",
    "print('y', y)\n",
    "# 这里虽然形状不同, 但数据共享\n",
    "y += 1\n",
    "print('x', x)\n",
    "# 所以如果想要不改变原张量, 要拷贝一个\n",
    "z = x.clone().view(-1, 6)\n",
    "print('z', z)\n",
    "z += 1\n",
    "print('z', z)\n",
    "print('x', x)"
   ]
  },
  {
   "cell_type": "code",
   "execution_count": 21,
   "metadata": {
    "tags": []
   },
   "outputs": [
    {
     "output_type": "stream",
     "name": "stdout",
     "text": "tensor([0.3573])\n0.35725635290145874\n"
    }
   ],
   "source": [
    "# 将 1 维张量转化为 Python 数字\n",
    "x = torch.rand(1)\n",
    "print(x)\n",
    "print(x.item())"
   ]
  },
  {
   "cell_type": "code",
   "execution_count": 22,
   "metadata": {
    "tags": []
   },
   "outputs": [
    {
     "output_type": "stream",
     "name": "stdout",
     "text": "tensor(7)\n"
    }
   ],
   "source": [
    "# 对角线元素之和\n",
    "x = torch.tensor([\n",
    "    [1, 2, 3],\n",
    "    [4, 5, 6],\n",
    "    [3, 2, 1]\n",
    "])\n",
    "print(x.trace())"
   ]
  },
  {
   "cell_type": "code",
   "execution_count": 23,
   "metadata": {
    "tags": []
   },
   "outputs": [
    {
     "output_type": "stream",
     "name": "stdout",
     "text": "tensor([1, 5, 1])\n"
    }
   ],
   "source": [
    "# 提取对角线元素\n",
    "x = torch.tensor([\n",
    "    [1, 2, 3],\n",
    "    [4, 5, 6],\n",
    "    [3, 2, 1]\n",
    "])\n",
    "print(x.diag())"
   ]
  },
  {
   "cell_type": "code",
   "execution_count": 29,
   "metadata": {
    "tags": []
   },
   "outputs": [
    {
     "output_type": "stream",
     "name": "stdout",
     "text": "tensor([[3, 3],\n        [3, 3]])\n"
    }
   ],
   "source": [
    "# 矩阵乘法\n",
    "x = torch.tensor([\n",
    "    [1, 2],\n",
    "    [2, 1]\n",
    "])\n",
    "y = torch.tensor([\n",
    "    [1, 1],\n",
    "    [1, 1]\n",
    "])\n",
    "print(x.mm(y))"
   ]
  },
  {
   "cell_type": "code",
   "execution_count": 27,
   "metadata": {
    "tags": []
   },
   "outputs": [
    {
     "output_type": "stream",
     "name": "stdout",
     "text": "tensor([[1, 2],\n        [1, 2]])\n"
    }
   ],
   "source": [
    "# 矩阵转置\n",
    "x = torch.tensor([\n",
    "    [1, 1],\n",
    "    [2, 2]\n",
    "])\n",
    "print(x.t())"
   ]
  },
  {
   "cell_type": "code",
   "execution_count": 42,
   "metadata": {
    "tags": []
   },
   "outputs": [
    {
     "output_type": "stream",
     "name": "stdout",
     "text": "tensor(3)\n"
    }
   ],
   "source": [
    "# 内积\n",
    "x = torch.tensor([1, 2])\n",
    "y = torch.tensor([1, 1])\n",
    "print(x.dot(y.t()))"
   ]
  },
  {
   "cell_type": "code",
   "execution_count": 36,
   "metadata": {
    "tags": []
   },
   "outputs": [
    {
     "output_type": "stream",
     "name": "stdout",
     "text": "tensor([[-0.3333,  0.6667],\n        [ 0.6667, -0.3333]])\n"
    }
   ],
   "source": [
    "# 逆矩阵\n",
    "x = torch.tensor([\n",
    "    [1, 2],\n",
    "    [2, 1]\n",
    "], dtype=int)\n",
    "# x.float() 将 LongTensor 转化为 FloatTensor\n",
    "print(x.float().inverse())"
   ]
  },
  {
   "cell_type": "code",
   "execution_count": 44,
   "metadata": {
    "tags": []
   },
   "outputs": [
    {
     "output_type": "stream",
     "name": "stdout",
     "text": "torch.return_types.svd(\nU=tensor([[-0.7071, -0.7071],\n        [-0.7071,  0.7071]]),\nS=tensor([3.0000, 1.0000]),\nV=tensor([[-0.7071,  0.7071],\n        [-0.7071, -0.7071]]))\n"
    }
   ],
   "source": [
    "# 奇异值分解\n",
    "x = torch.tensor([\n",
    "    [1, 2],\n",
    "    [2, 1]\n",
    "], dtype=int)\n",
    "print(x.float().svd())"
   ]
  },
  {
   "cell_type": "code",
   "execution_count": 45,
   "metadata": {
    "tags": []
   },
   "outputs": [
    {
     "output_type": "stream",
     "name": "stdout",
     "text": "x tensor([1, 2, 3])\ny [1 2 3]\nz tensor([1, 2, 3])\n"
    }
   ],
   "source": [
    "# tensor 和 numpy 的互相转化\n",
    "x = torch.tensor([1, 2, 3])\n",
    "y = x.numpy()\n",
    "print('x', x)\n",
    "print('y', y)\n",
    "z = torch.from_numpy(y)\n",
    "print('z', z)"
   ]
  },
  {
   "cell_type": "code",
   "execution_count": null,
   "metadata": {},
   "outputs": [],
   "source": [
    "'''\n",
    "梯度相关\n",
    "'''"
   ]
  },
  {
   "cell_type": "code",
   "execution_count": 4,
   "metadata": {
    "tags": []
   },
   "outputs": [
    {
     "output_type": "stream",
     "name": "stdout",
     "text": "True None\n"
    }
   ],
   "source": [
    "# 开启追踪\n",
    "x =  torch.ones(2, 2, requires_grad=True)\n",
    "# x 是一个叶子结点, 没有 grad_fn\n",
    "print(x.is_leaf, x.grad_fn)"
   ]
  },
  {
   "cell_type": "code",
   "execution_count": 5,
   "metadata": {
    "tags": []
   },
   "outputs": [
    {
     "output_type": "stream",
     "name": "stdout",
     "text": "False <AddBackward0 object at 0x128f71630>\n"
    }
   ],
   "source": [
    "# 而经过运算后的 y 不是叶子结点, 有 grad_fn\n",
    "y = x + 2\n",
    "print(y.is_leaf, y.grad_fn)"
   ]
  },
  {
   "cell_type": "code",
   "execution_count": 6,
   "metadata": {
    "tags": []
   },
   "outputs": [
    {
     "output_type": "stream",
     "name": "stdout",
     "text": "tensor([[3., 3.],\n        [3., 3.]], grad_fn=<AddBackward0>)\n"
    }
   ],
   "source": [
    "# 构建一个 z, 想要计算 z 对于 x 的梯度\n",
    "z = x * x + 2\n",
    "print(z)"
   ]
  },
  {
   "cell_type": "code",
   "execution_count": 9,
   "metadata": {
    "tags": []
   },
   "outputs": [
    {
     "output_type": "stream",
     "name": "stdout",
     "text": "tensor([[2., 2.],\n        [2., 2.]])\n"
    }
   ],
   "source": [
    "# 不允许张量对张量求梯度\n",
    "# 所以要传入一个与 z 同维的张量 w, 先计算出标量 l = torch.sum(z, w), 再用 l 对 x 求梯度\n",
    "z.backward(torch.tensor([\n",
    "    [1, 1],\n",
    "    [1, 1]\n",
    "], dtype=torch.float))\n",
    "print(x.grad)"
   ]
  },
  {
   "cell_type": "code",
   "execution_count": null,
   "metadata": {},
   "outputs": [],
   "source": []
  }
 ],
 "metadata": {
  "language_info": {
   "codemirror_mode": {
    "name": "ipython",
    "version": 3
   },
   "file_extension": ".py",
   "mimetype": "text/x-python",
   "name": "python",
   "nbconvert_exporter": "python",
   "pygments_lexer": "ipython3",
   "version": "3.6.10-final"
  },
  "orig_nbformat": 2,
  "kernelspec": {
   "name": "python361064bitpy36conda95eb8f69f9de4dc4bfb299e3437cf55f",
   "display_name": "Python 3.6.10 64-bit ('py36': conda)"
  }
 },
 "nbformat": 4,
 "nbformat_minor": 2
}
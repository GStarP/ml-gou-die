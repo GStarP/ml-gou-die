{
 "nbformat": 4,
 "nbformat_minor": 2,
 "metadata": {
  "language_info": {
   "name": "python",
   "codemirror_mode": {
    "name": "ipython",
    "version": 2
   },
   "version": "3.6.2-final"
  },
  "orig_nbformat": 2,
  "file_extension": ".py",
  "mimetype": "text/x-python",
  "name": "python",
  "npconvert_exporter": "python",
  "pygments_lexer": "ipython2",
  "version": 2,
  "kernelspec": {
   "name": "python36264bitpy36conda38ae987df9144d36aeb7041e43accf78",
   "display_name": "Python 3.6.2 64-bit ('py36': conda)"
  }
 },
 "cells": [
  {
   "cell_type": "code",
   "execution_count": 21,
   "metadata": {},
   "outputs": [
    {
     "name": "stdout",
     "output_type": "stream",
     "text": "mean:   3.25\nmedian: 3.0\n"
    }
   ],
   "source": [
    "import numpy as np\n",
    "\n",
    "arr = [1,2,6,4]\n",
    "\n",
    "# 平均数(average 可以做加权平均)\n",
    "print('mean:   %s' % str(np.mean(arr)))\n",
    "# 中位数\n",
    "print('median: %s' % str(np.median(arr)))"
   ]
  },
  {
   "cell_type": "code",
   "execution_count": 30,
   "metadata": {},
   "outputs": [
    {
     "name": "stdout",
     "output_type": "stream",
     "text": "3.6875\n3.6875\n1.920286436967152\n"
    }
   ],
   "source": [
    "# 方差(numpy 里是均方差)\n",
    "print(np.var(arr))\n",
    "# 计算\n",
    "var = 0\n",
    "for i in arr:\n",
    "    var = var + np.square(i - np.mean(arr))\n",
    "var = var / len(arr)\n",
    "print(var)\n",
    "# 标准差(也是均标准差)\n",
    "print(np.std(arr))"
   ]
  },
  {
   "cell_type": "code",
   "execution_count": 49,
   "metadata": {},
   "outputs": [
    {
     "name": "stdout",
     "output_type": "stream",
     "text": "-1.0\n-1.0\n-0.6666666666666666\n---cov matrix---\n[[ 1.33333333 -1.        ]\n [-1.          3.        ]]\n---col vector---\n[[2 3]\n [2 6]\n [4 3]]\n[[ 1.33333333 -1.        ]\n [-1.          3.        ]]\n"
    }
   ],
   "source": [
    "# 协方差\n",
    "x_arr = [2,2,4]\n",
    "y_arr = [3,6,3]\n",
    "print(np.cov(x_arr, y_arr)[0][1])\n",
    "# 计算\n",
    "cov = 0\n",
    "x_avg = np.mean(x_arr)\n",
    "y_avg = np.mean(y_arr)\n",
    "for i in range(len(x_arr)):\n",
    "    cov = cov + (x_arr[i] - x_avg) * (y_arr[i] - y_avg)\n",
    "# 非偏估计除以 n-1\n",
    "cov = cov / (len(x_arr) - 1)\n",
    "print(cov)\n",
    "# 有偏估计除以 n\n",
    "print(np.cov(x_arr, y_arr, bias=True)[0][1])\n",
    "# 协方差矩阵\n",
    "# 矩阵 [Xi] 的协方差矩阵的 (i,j) 表示 Xi 与 Xj 的协方差\n",
    "# 因此对角线上 cov(Xi,Xi) 恰好是 var(Xi)\n",
    "print('---cov matrix---')\n",
    "matrix = np.array([x_arr, y_arr])\n",
    "print(np.cov(matrix))\n",
    "# 我们一般研究特征的关系, 特征以列向量为组, 因此 cov 也要以列来计算\n",
    "print('---col vector---')\n",
    "matrixT = matrix.T\n",
    "print(matrixT)\n",
    "print(np.cov(matrixT, rowvar=False))"
   ]
  },
  {
   "cell_type": "code",
   "execution_count": null,
   "metadata": {},
   "outputs": [],
   "source": []
  }
 ]
}